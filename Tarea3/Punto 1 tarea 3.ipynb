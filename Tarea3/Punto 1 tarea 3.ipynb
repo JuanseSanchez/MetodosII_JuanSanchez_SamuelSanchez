{
 "cells": [
  {
   "cell_type": "code",
   "execution_count": 2,
   "id": "446434a0",
   "metadata": {},
   "outputs": [],
   "source": [
    "import numpy as np\n",
    "import matplotlib.pyplot as plt\n",
    "from scipy.integrate import odeint\n",
    "import sympy as sym"
   ]
  },
  {
   "cell_type": "markdown",
   "id": "8fe812c0",
   "metadata": {},
   "source": [
    "# 1.D"
   ]
  },
  {
   "cell_type": "code",
   "execution_count": 3,
   "id": "53db0ae0",
   "metadata": {},
   "outputs": [],
   "source": [
    "def System(r,t):\n",
    "\n",
    "    x,y = r\n",
    "\n",
    "    dxdt = 2*x -y\n",
    "    dydt = x + 2*y\n",
    "\n",
    "    return np.array([dxdt,dydt])"
   ]
  },
  {
   "cell_type": "code",
   "execution_count": 4,
   "id": "43dc1140",
   "metadata": {},
   "outputs": [],
   "source": [
    "def RungeKutta(f, r, t, h):\n",
    "    k1 = h * f(r, t)\n",
    "    k2 = h * f(r + 0.5 * k1,t)\n",
    "    k3 = h * f(r + 0.5 * k2,t)\n",
    "    k4 = h * f(r + k3, t)\n",
    "    return (k1 + 2 * k2 + 2 * k3 + k4) / 6"
   ]
  },
  {
   "cell_type": "code",
   "execution_count": 7,
   "id": "f1a66f4a",
   "metadata": {},
   "outputs": [],
   "source": [
    "def IntegratorAdams(f,r0,t):\n",
    "    #difine el paso\n",
    "    h = t[1] - t[0]\n",
    "    #______________________________________\n",
    "    x = np.zeros_like(t)\n",
    "    y = np.zeros_like(t)\n",
    "    x[0] = r0[0]\n",
    "    y[0] = r0[1]\n",
    "    for i in range(1,5):\n",
    "        present = np.array([x[i-1],y[i-1]])\n",
    "        p = RungeKutta(f,present,t[0],h)\n",
    "        x[i] = x[i-1] + p[0]\n",
    "        y[i] = y[i-1] + p[1]\n",
    "    xc = x.copy()\n",
    "    yc = y.copy()\n",
    "    K11 = np.zeros(2)\n",
    "    K12 = np.zeros(2)\n",
    "    K13 = np.zeros(2)\n",
    "    K14 = np.zeros(2)\n",
    "    for i in range(5,len(t)):\n",
    "        \n",
    "        present = np.array([x[i-1],y[i-1]])\n",
    "        past_1 = np.array([x[i-2],y[i-2]])\n",
    "        past_2 = np.array([x[i-3],y[i-3]])\n",
    "        past_3 = np.array([x[i-4],y[i-4]])\n",
    "        \n",
    "        K11 = f(present,t[i-1])\n",
    "        K12 = f(past_1,t[i-2])\n",
    "        K13 = f(past_2,t[i-3])\n",
    "        K14 = f(past_3,t[i-4])\n",
    "        \n",
    "        x[i] =   x[i-1] + h*((55/24)*K11[0]-(59/24)*K12[0]+(37/24)*K13[0]-(3/8)*K14[0])\n",
    "        y[i] = y[i-1] + h*((55/24)*K11[1]-(59/24)*K12[1]+(37/24)*K13[1]-(3/8)*K14[1])\n",
    "        \n",
    "        xc[i] = x[i]\n",
    "        yc[i] = y[i]\n",
    "        \n",
    "        # Futuro\n",
    "        futuro = np.array([x[i],y[i]])\n",
    "        Kmulton = f(futuro,t[i])\n",
    "        \n",
    "        xc[i] =  xc[i-1] +  h*((251)*Kmulton[0]+(646)*K11[0]-(264)*K12[0]+(106)*K13[0]-(19)*K14[0])/720\n",
    "        yc[i] = yc[i-1] + h*((251)*Kmulton[1]+(646)*K11[1]-(264)*K12[1]+(106)*K13[1]-(19)*K14[1])/720\n",
    "    return x,y,xc,yc"
   ]
  },
  {
   "cell_type": "code",
   "execution_count": 34,
   "id": "851b0033",
   "metadata": {},
   "outputs": [],
   "source": [
    "t = np.linspace(0,20,10000)\n",
    "r0 = [0.5,0.5]\n",
    "sol = IntegratorAdams(System,r0,t)"
   ]
  },
  {
   "cell_type": "code",
   "execution_count": 35,
   "id": "f8288055",
   "metadata": {},
   "outputs": [
    {
     "data": {
      "text/plain": [
       "<matplotlib.collections.PathCollection at 0x1ac55fbfd60>"
      ]
     },
     "execution_count": 35,
     "metadata": {},
     "output_type": "execute_result"
    },
    {
     "data": {
      "image/png": "[encoded data removed]",
      "text/plain": [
       "<Figure size 432x288 with 1 Axes>"
      ]
     },
     "metadata": {
      "needs_background": "light"
     },
     "output_type": "display_data"
    }
   ],
   "source": [
    "plt.scatter(sol[2],sol[3],marker='.',color='b')"
   ]
  },
  {
   "cell_type": "code",
   "execution_count": 48,
   "id": "dad2be2c",
   "metadata": {},
   "outputs": [
    {
     "name": "stdout",
     "output_type": "stream",
     "text": [
      "el punto critico esta en (0,0)\n"
     ]
    },
    {
     "data": {
      "image/png": "[encoded data removed]",
      "text/plain": [
       "<Figure size 432x288 with 1 Axes>"
      ]
     },
     "metadata": {
      "needs_background": "light"
     },
     "output_type": "display_data"
    }
   ],
   "source": [
    "fig=plt.figure()\n",
    "ax=fig.add_subplot()\n",
    "r=[(0.5,0.5),(-0.5,0.5),(0.5,-0.5),(-0.5,-0.5)]\n",
    "\n",
    "for i in r:\n",
    "    answer=IntegratorAdams(System,i,t)\n",
    "    ax.plot(answer[0],answer[1],c=\"b\")\n",
    "print(\"el punto critico esta en (0,0)\")"
   ]
  },
  {
   "cell_type": "markdown",
   "id": "e1526be1",
   "metadata": {},
   "source": [
    "# 1.B y 1.C"
   ]
  },
  {
   "cell_type": "code",
   "execution_count": 22,
   "id": "7c7341a9",
   "metadata": {},
   "outputs": [],
   "source": [
    "x = sym.Symbol('x',real=True)\n",
    "y = sym.Symbol('y',real=True)\n",
    "f = 2*x - y\n",
    "g = x + 2*y\n",
    "dfdx = sym.diff(f, x)\n",
    "dfdy = sym.diff(f, y)\n",
    "dgdx = sym.diff(g, x)\n",
    "dgdy = sym.diff(g, y)"
   ]
  },
  {
   "cell_type": "code",
   "execution_count": 23,
   "id": "a842864d",
   "metadata": {},
   "outputs": [],
   "source": [
    "M_est = np.array([[int(dfdx), int(dfdy)],\n",
    "                   [int(dgdx), int(dgdy)]])\n",
    "eigenvalues, eigenvectors = np.linalg.eig(M_est)"
   ]
  },
  {
   "cell_type": "code",
   "execution_count": 24,
   "id": "a8de7d44",
   "metadata": {},
   "outputs": [
    {
     "name": "stdout",
     "output_type": "stream",
     "text": [
      "valores propios:  [2.+1.j 2.-1.j]\n",
      "vectores propios:  [[0.70710678+0.j         0.70710678-0.j        ]\n",
      " [0.        -0.70710678j 0.        +0.70710678j]]\n"
     ]
    }
   ],
   "source": [
    "print(\"valores propios: \",eigenvalues)\n",
    "print(\"vectores propios: \",eigenvectors)"
   ]
  },
  {
   "cell_type": "markdown",
   "id": "340b7060",
   "metadata": {},
   "source": [
    "# 1.A"
   ]
  },
  {
   "cell_type": "code",
   "execution_count": 25,
   "id": "ab8f9a45",
   "metadata": {},
   "outputs": [
    {
     "name": "stdout",
     "output_type": "stream",
     "text": [
      "Solución:\n",
      "{x: 0, y: 0}\n"
     ]
    }
   ],
   "source": [
    "solucion = sym.solve((f, g), (x, y))\n",
    "\n",
    "print(\"Solución:\")\n",
    "print(solucion)"
   ]
  },
  {
   "cell_type": "code",
   "execution_count": null,
   "id": "cc17d72c",
   "metadata": {},
   "outputs": [],
   "source": []
  }
 ],
 "metadata": {
  "kernelspec": {
   "display_name": "Python 3",
   "language": "python",
   "name": "python3"
  },
  "language_info": {
   "codemirror_mode": {
    "name": "ipython",
    "version": 3
   },
   "file_extension": ".py",
   "mimetype": "text/x-python",
   "name": "python",
   "nbconvert_exporter": "python",
   "pygments_lexer": "ipython3",
   "version": "3.8.8"
  }
 },
 "nbformat": 4,
 "nbformat_minor": 5
}
